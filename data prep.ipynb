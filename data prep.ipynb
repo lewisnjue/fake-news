{
 "cells": [
  {
   "cell_type": "code",
   "execution_count": null,
   "id": "72c4ef98-075d-4873-9f64-8f26d34da5cb",
   "metadata": {},
   "outputs": [],
   "source": [
    "\n",
    "    \n"
   ]
  },
  {
   "cell_type": "code",
   "execution_count": 25,
   "id": "7fc00bc6-f34b-442a-9746-17f0a6cde3bc",
   "metadata": {},
   "outputs": [],
   "source": [
    "# imports \n",
    "import os\n",
    "import pandas as pd\n",
    "import csv\n",
    "import numpy as np\n",
    "import nltk\n",
    "from nltk.stem import SnowballStemmer\n",
    "from nltk.stem.porter import PorterStemmer\n",
    "from nltk.tokenize import word_tokenize\n",
    "import seaborn as sns"
   ]
  },
  {
   "cell_type": "code",
   "execution_count": 53,
   "id": "e3be29ad-8506-49eb-9dc6-987ea41f0434",
   "metadata": {},
   "outputs": [
    {
     "name": "stderr",
     "output_type": "stream",
     "text": [
      "[nltk_data] Downloading package punkt to /root/nltk_data...\n",
      "[nltk_data]   Package punkt is already up-to-date!\n"
     ]
    },
    {
     "data": {
      "text/plain": [
       "True"
      ]
     },
     "execution_count": 53,
     "metadata": {},
     "output_type": "execute_result"
    }
   ],
   "source": [
    "# Make sure you have the punkt tokenizer downloaded\n",
    "nltk.download(\"punkt\")"
   ]
  },
  {
   "cell_type": "code",
   "execution_count": 5,
   "id": "d765e00a-6d7f-4ba6-b1c1-b4c1498ade34",
   "metadata": {},
   "outputs": [],
   "source": [
    "# readng the data in a pandas dataframes for all three train, test and validaton\n",
    "test_filename = 'test.csv'\n",
    "train_filename = 'train.csv'\n",
    "valid_filename = 'valid.csv'\n",
    "\n",
    "train_news = pd.read_csv(train_filename)\n",
    "test_news = pd.read_csv(test_filename)\n",
    "valid_news = pd.read_csv(valid_filename)"
   ]
  },
  {
   "cell_type": "code",
   "execution_count": 9,
   "id": "c6c60aaa-c241-49f7-a714-add9fa4c9fb1",
   "metadata": {},
   "outputs": [
    {
     "data": {
      "text/plain": [
       "(10240, 2)"
      ]
     },
     "execution_count": 9,
     "metadata": {},
     "output_type": "execute_result"
    }
   ],
   "source": [
    "train_news.shape # i have 10240 n_samples and 1 n_features , just the statments "
   ]
  },
  {
   "cell_type": "code",
   "execution_count": 12,
   "id": "37257a97-e4be-4b42-85e3-06161806caf8",
   "metadata": {},
   "outputs": [],
   "source": [
    "columns = list(train_news.columns)"
   ]
  },
  {
   "cell_type": "code",
   "execution_count": 14,
   "id": "05d69461-1f06-44fa-b1d7-cb014557bb48",
   "metadata": {},
   "outputs": [
    {
     "data": {
      "text/plain": [
       "['Statement', 'Label']"
      ]
     },
     "execution_count": 14,
     "metadata": {},
     "output_type": "execute_result"
    }
   ],
   "source": [
    "columns # here i will need to encde the Label column , and i will do features extracion for the Statment column "
   ]
  },
  {
   "cell_type": "code",
   "execution_count": 18,
   "id": "23f3a4c4-94c0-4ea9-bfb1-ef6736eefb65",
   "metadata": {},
   "outputs": [
    {
     "data": {
      "text/plain": [
       "array([False,  True])"
      ]
     },
     "execution_count": 18,
     "metadata": {},
     "output_type": "execute_result"
    }
   ],
   "source": [
    "train_news.Label.unique() # its a boolean field :) , perfect "
   ]
  },
  {
   "cell_type": "code",
   "execution_count": 20,
   "id": "8a332213-58f2-4fb9-86fa-91bd07df52b3",
   "metadata": {},
   "outputs": [
    {
     "name": "stdout",
     "output_type": "stream",
     "text": [
      "<class 'pandas.core.frame.DataFrame'>\n",
      "RangeIndex: 10240 entries, 0 to 10239\n",
      "Data columns (total 2 columns):\n",
      " #   Column     Non-Null Count  Dtype \n",
      "---  ------     --------------  ----- \n",
      " 0   Statement  10240 non-null  object\n",
      " 1   Label      10240 non-null  bool  \n",
      "dtypes: bool(1), object(1)\n",
      "memory usage: 90.1+ KB\n"
     ]
    }
   ],
   "source": [
    "train_news.info() # statment is of type object because its a string . i will handle that "
   ]
  },
  {
   "cell_type": "code",
   "execution_count": 24,
   "id": "169f681e-0b88-4687-a9b4-702a7ffb4330",
   "metadata": {},
   "outputs": [
    {
     "data": {
      "text/plain": [
       "(3145, 11)"
      ]
     },
     "execution_count": 24,
     "metadata": {},
     "output_type": "execute_result"
    }
   ],
   "source": [
    "np.max([len(s) for s in train_news.Statement]), np.min([len(s) for s in train_news.Statement])# lengh in terms of number of characters \n"
   ]
  },
  {
   "cell_type": "code",
   "execution_count": 28,
   "id": "bb504a5a-d118-43de-885a-ad87e3dde6f1",
   "metadata": {},
   "outputs": [
    {
     "data": {
      "image/png": "[encoded data removed]",
      "text/plain": [
       "<Figure size 432x288 with 1 Axes>"
      ]
     },
     "metadata": {
      "needs_background": "light"
     },
     "output_type": "display_data"
    }
   ],
   "source": [
    "# let me check distribution of the labels \n",
    "sns.countplot(x='Label', data=train_news, palette='hls'); # almost balanced i will not oversample for this . "
   ]
  },
  {
   "cell_type": "code",
   "execution_count": 33,
   "id": "096d8eab-aad4-4c7a-ae14-517c8fcbf6ff",
   "metadata": {},
   "outputs": [
    {
     "data": {
      "text/plain": [
       "Statement    0\n",
       "Label        0\n",
       "dtype: int64"
      ]
     },
     "execution_count": 33,
     "metadata": {},
     "output_type": "execute_result"
    }
   ],
   "source": [
    "# let me check for any missing data \n",
    "train_news.isnull().sum() # :) "
   ]
  },
  {
   "cell_type": "code",
   "execution_count": 35,
   "id": "367f2bb6-ddcf-41dd-9a0b-1e1b6e7e8846",
   "metadata": {},
   "outputs": [],
   "source": [
    "\n",
    "eng_stemmer = SnowballStemmer('english') # thisis my stemmer \n"
   ]
  },
  {
   "cell_type": "code",
   "execution_count": 42,
   "id": "4bbb6fc0-e638-4a0a-a1e2-e4276bb743b3",
   "metadata": {},
   "outputs": [],
   "source": [
    "from typing import List,Optional"
   ]
  },
  {
   "cell_type": "code",
   "execution_count": 43,
   "id": "909eaeff-89e9-4ca6-9e75-4fb86361953f",
   "metadata": {},
   "outputs": [],
   "source": [
    "# i will have a function that stems the tokens  \n",
    "def stem_tokens(tokens:List, stemmer = eng_stemmer) -> List:\n",
    "    stemmed = []\n",
    "    for token in tokens:\n",
    "        stemmed.append(stemmer.stem(token))\n",
    "    return stemmed\n"
   ]
  },
  {
   "cell_type": "code",
   "execution_count": 48,
   "id": "ad26e240-9495-4e03-b568-e911a6ded0b4",
   "metadata": {},
   "outputs": [],
   "source": [
    "tokens = [ w.lower() for w in train_news['Statement'][0]]"
   ]
  },
  {
   "cell_type": "code",
   "execution_count": 51,
   "id": "d84900bc-ff93-48c8-ab2d-bdba1e7c4559",
   "metadata": {},
   "outputs": [
    {
     "data": {
      "text/plain": [
       "True"
      ]
     },
     "execution_count": 51,
     "metadata": {},
     "output_type": "execute_result"
    }
   ],
   "source": [
    "stem_tokens(tokens) == tokens # this is not what i want "
   ]
  },
  {
   "cell_type": "code",
   "execution_count": 56,
   "id": "7fa4dc17-cb13-4e49-baaf-5b20991100dd",
   "metadata": {},
   "outputs": [
    {
     "data": {
      "text/plain": [
       "['hello',\n",
       " ',',\n",
       " 'my',\n",
       " 'name',\n",
       " 'is',\n",
       " 'lewi',\n",
       " '.',\n",
       " 'i',\n",
       " 'like',\n",
       " 'machin',\n",
       " 'learn',\n",
       " '!']"
      ]
     },
     "execution_count": 56,
     "metadata": {},
     "output_type": "execute_result"
    }
   ],
   "source": [
    "# this is what i want \n",
    "text = \"Hello, my name is Lewis. I like machine learning!\"\n",
    "tokens = word_tokenize(text)\n",
    "stem_tokens(tokens)# this is the pipeline i want for preprocessing :) \n"
   ]
  },
  {
   "cell_type": "code",
   "execution_count": 62,
   "id": "fc3ced00-6a96-42c3-a88f-c544447783ce",
   "metadata": {},
   "outputs": [
    {
     "data": {
      "text/plain": [
       "['say',\n",
       " 'the',\n",
       " 'anni',\n",
       " 'list',\n",
       " 'polit',\n",
       " 'group',\n",
       " 'support',\n",
       " 'third-trimest',\n",
       " 'abort',\n",
       " 'on',\n",
       " 'demand',\n",
       " '.']"
      ]
     },
     "execution_count": 62,
     "metadata": {},
     "output_type": "execute_result"
    }
   ],
   "source": [
    "stem_tokens(word_tokenize(train_news['Statement'][0]))"
   ]
  },
  {
   "cell_type": "code",
   "execution_count": 64,
   "id": "4b3ea059-f6c3-4485-8304-bb3de3bf4662",
   "metadata": {},
   "outputs": [],
   "source": [
    "def process_data(data,exclude_stopword=True,stem=True):\n",
    "    tokens = [w.lower() for w in data]\n",
    "    tokens_stemmed = tokens\n",
    "    tokens_stemmed = stem_tokens(tokens, eng_stemmer)\n",
    "    tokens_stemmed = [w for w in tokens_stemmed if w not in stopwords ]\n",
    "    return tokens_stemmed\n"
   ]
  },
  {
   "cell_type": "code",
   "execution_count": null,
   "id": "bc15176a-8fa7-423a-aa66-944e40a2b7d6",
   "metadata": {},
   "outputs": [],
   "source": [
    "# you can look at diffrent methods of tokenization :) \n"
   ]
  }
 ],
 "metadata": {
  "kernelspec": {
   "display_name": "Python 3",
   "language": "python",
   "name": "python3"
  },
  "language_info": {
   "codemirror_mode": {
    "name": "ipython",
    "version": 3
   },
   "file_extension": ".py",
   "mimetype": "text/x-python",
   "name": "python",
   "nbconvert_exporter": "python",
   "pygments_lexer": "ipython3",
   "version": "3.6.15"
  }
 },
 "nbformat": 4,
 "nbformat_minor": 5
}
